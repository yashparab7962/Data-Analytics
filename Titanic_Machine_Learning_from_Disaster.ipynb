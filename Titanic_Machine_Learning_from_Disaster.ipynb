{
  "metadata": {
    "kernelspec": {
      "language": "python",
      "display_name": "Python 3",
      "name": "python3"
    },
    "language_info": {
      "name": "python",
      "version": "3.10.14",
      "mimetype": "text/x-python",
      "codemirror_mode": {
        "name": "ipython",
        "version": 3
      },
      "pygments_lexer": "ipython3",
      "nbconvert_exporter": "python",
      "file_extension": ".py"
    },
    "kaggle": {
      "accelerator": "none",
      "dataSources": [
        {
          "sourceId": 3136,
          "databundleVersionId": 26502,
          "sourceType": "competition"
        }
      ],
      "dockerImageVersionId": 30786,
      "isInternetEnabled": true,
      "language": "python",
      "sourceType": "notebook",
      "isGpuEnabled": false
    },
    "colab": {
      "name": "Titanic - Machine Learning from Disaster",
      "provenance": [],
      "include_colab_link": true
    }
  },
  "nbformat_minor": 0,
  "nbformat": 4,
  "cells": [
    {
      "cell_type": "markdown",
      "metadata": {
        "id": "view-in-github",
        "colab_type": "text"
      },
      "source": [
        "<a href=\"https://colab.research.google.com/github/yashparab7962/Data-Analytics/blob/main/Titanic_Machine_Learning_from_Disaster.ipynb\" target=\"_parent\"><img src=\"https://colab.research.google.com/assets/colab-badge.svg\" alt=\"Open In Colab\"/></a>"
      ]
    },
    {
      "cell_type": "code",
      "source": [
        "import numpy as np\n",
        "import pandas as pd\n",
        "import matplotlib.pyplot as plt\n",
        "import seaborn as sns\n",
        "import warnings\n",
        "pd.set_option('display.max_columns', None)  # Show all columns\n",
        "pd.set_option('display.width', 1000)\n",
        "# Ignore all DeprecationWarnings\n",
        "warnings.filterwarnings(\"ignore\", category=DeprecationWarning)\n",
        "from scipy.stats import chi2_contingency\n"
      ],
      "metadata": {
        "execution": {
          "iopub.status.busy": "2024-10-16T12:32:03.234297Z",
          "iopub.execute_input": "2024-10-16T12:32:03.234847Z",
          "iopub.status.idle": "2024-10-16T12:32:03.244058Z",
          "shell.execute_reply.started": "2024-10-16T12:32:03.234759Z",
          "shell.execute_reply": "2024-10-16T12:32:03.241957Z"
        },
        "trusted": true,
        "id": "imR6gZUTq_j0"
      },
      "execution_count": null,
      "outputs": []
    },
    {
      "cell_type": "code",
      "source": [
        "train_df=pd.read_csv('/kaggle/input/titanic/train.csv')\n",
        "test_df=pd.read_csv('/kaggle/input/titanic/test.csv')"
      ],
      "metadata": {
        "execution": {
          "iopub.status.busy": "2024-10-16T12:32:03.290687Z",
          "iopub.execute_input": "2024-10-16T12:32:03.291427Z",
          "iopub.status.idle": "2024-10-16T12:32:03.316796Z",
          "shell.execute_reply.started": "2024-10-16T12:32:03.291373Z",
          "shell.execute_reply": "2024-10-16T12:32:03.314731Z"
        },
        "trusted": true,
        "id": "BHfkFbM9q_j1"
      },
      "execution_count": null,
      "outputs": []
    },
    {
      "cell_type": "code",
      "source": [
        "train_df.head()"
      ],
      "metadata": {
        "execution": {
          "iopub.status.busy": "2024-10-16T12:32:03.434374Z",
          "iopub.execute_input": "2024-10-16T12:32:03.434986Z",
          "iopub.status.idle": "2024-10-16T12:32:03.459629Z",
          "shell.execute_reply.started": "2024-10-16T12:32:03.434934Z",
          "shell.execute_reply": "2024-10-16T12:32:03.457634Z"
        },
        "trusted": true,
        "id": "WWx1hbmWq_j1"
      },
      "execution_count": null,
      "outputs": []
    },
    {
      "cell_type": "code",
      "source": [
        "test_df.head()"
      ],
      "metadata": {
        "execution": {
          "iopub.status.busy": "2024-10-16T12:32:03.57478Z",
          "iopub.execute_input": "2024-10-16T12:32:03.575296Z",
          "iopub.status.idle": "2024-10-16T12:32:03.596972Z",
          "shell.execute_reply.started": "2024-10-16T12:32:03.575248Z",
          "shell.execute_reply": "2024-10-16T12:32:03.595552Z"
        },
        "trusted": true,
        "id": "Y5zN6Gk9q_j1"
      },
      "execution_count": null,
      "outputs": []
    },
    {
      "cell_type": "markdown",
      "source": [
        "<h3>Data Preprocessing</h3>"
      ],
      "metadata": {
        "id": "xOnsQwtpq_j2"
      }
    },
    {
      "cell_type": "code",
      "source": [
        "print('Train Dataset Shape',train_df.shape)\n",
        "print('------------------------------------')\n",
        "print('Test Dataset Shape',test_df.shape)"
      ],
      "metadata": {
        "execution": {
          "iopub.status.busy": "2024-10-16T12:32:03.641412Z",
          "iopub.execute_input": "2024-10-16T12:32:03.641948Z",
          "iopub.status.idle": "2024-10-16T12:32:03.650571Z",
          "shell.execute_reply.started": "2024-10-16T12:32:03.641897Z",
          "shell.execute_reply": "2024-10-16T12:32:03.649036Z"
        },
        "trusted": true,
        "id": "spK9_lrQq_j3"
      },
      "execution_count": null,
      "outputs": []
    },
    {
      "cell_type": "code",
      "source": [
        "train_df['dataset_type']='train'\n",
        "test_df['dataset_type']='test'\n",
        "df=pd.concat([train_df,test_df])\n",
        "df.head()"
      ],
      "metadata": {
        "execution": {
          "iopub.status.busy": "2024-10-16T12:32:03.706793Z",
          "iopub.execute_input": "2024-10-16T12:32:03.70807Z",
          "iopub.status.idle": "2024-10-16T12:32:03.733672Z",
          "shell.execute_reply.started": "2024-10-16T12:32:03.708017Z",
          "shell.execute_reply": "2024-10-16T12:32:03.732106Z"
        },
        "trusted": true,
        "id": "kYpY5tDlq_j4"
      },
      "execution_count": null,
      "outputs": []
    },
    {
      "cell_type": "code",
      "source": [
        "print('Combine Dataset Shape',df.shape)\n",
        "df['dataset_type'].value_counts()"
      ],
      "metadata": {
        "execution": {
          "iopub.status.busy": "2024-10-16T12:32:03.768281Z",
          "iopub.execute_input": "2024-10-16T12:32:03.769119Z",
          "iopub.status.idle": "2024-10-16T12:32:03.781746Z",
          "shell.execute_reply.started": "2024-10-16T12:32:03.769066Z",
          "shell.execute_reply": "2024-10-16T12:32:03.780177Z"
        },
        "trusted": true,
        "id": "GzhEXcTLq_j5"
      },
      "execution_count": null,
      "outputs": []
    },
    {
      "cell_type": "code",
      "source": [
        "#Check For Duplicate Records\n",
        "df.duplicated().sum()"
      ],
      "metadata": {
        "execution": {
          "iopub.status.busy": "2024-10-16T12:32:03.846058Z",
          "iopub.execute_input": "2024-10-16T12:32:03.846518Z",
          "iopub.status.idle": "2024-10-16T12:32:03.861214Z",
          "shell.execute_reply.started": "2024-10-16T12:32:03.846473Z",
          "shell.execute_reply": "2024-10-16T12:32:03.859741Z"
        },
        "trusted": true,
        "id": "2ADfhphwq_j6"
      },
      "execution_count": null,
      "outputs": []
    },
    {
      "cell_type": "code",
      "source": [
        "df.info()"
      ],
      "metadata": {
        "execution": {
          "iopub.status.busy": "2024-10-16T12:32:03.911735Z",
          "iopub.execute_input": "2024-10-16T12:32:03.912263Z",
          "iopub.status.idle": "2024-10-16T12:32:03.928937Z",
          "shell.execute_reply.started": "2024-10-16T12:32:03.912214Z",
          "shell.execute_reply": "2024-10-16T12:32:03.927496Z"
        },
        "trusted": true,
        "id": "mfElMWV-q_j7"
      },
      "execution_count": null,
      "outputs": []
    },
    {
      "cell_type": "code",
      "source": [
        "plt.figure(figsize=(10,5))\n",
        "records=df.isnull().mean()*100\n",
        "plt.xlabel('Features')\n",
        "plt.ylabel('Percentage Of Missing Values')\n",
        "plt.title('Missing Value Plot')\n",
        "ax = records.plot(kind='bar')\n",
        "\n",
        "for i, value in enumerate(records):\n",
        "    plt.text(i, value + 0.5, f'{value:.2f}%', ha='center', va='bottom')\n",
        "\n",
        "plt.show()"
      ],
      "metadata": {
        "execution": {
          "iopub.status.busy": "2024-10-16T12:32:03.990162Z",
          "iopub.execute_input": "2024-10-16T12:32:03.991456Z",
          "iopub.status.idle": "2024-10-16T12:32:04.464219Z",
          "shell.execute_reply.started": "2024-10-16T12:32:03.991402Z",
          "shell.execute_reply": "2024-10-16T12:32:04.462546Z"
        },
        "trusted": true,
        "id": "gLLD1D6nq_j7"
      },
      "execution_count": null,
      "outputs": []
    },
    {
      "cell_type": "markdown",
      "source": [
        "<h4>Based on the null value analysis, we observe that the Cabin feature has approximately 77% missing values.\n",
        "Due to the high percentage of missing data, it's impractical to address this through imputation techniques.\n",
        "Therefore, we recommend removing the Cabin column from the dataset to ensure data quality</h4>"
      ],
      "metadata": {
        "execution": {
          "iopub.status.busy": "2024-10-16T09:22:24.403213Z",
          "iopub.execute_input": "2024-10-16T09:22:24.403718Z",
          "iopub.status.idle": "2024-10-16T09:22:24.413864Z",
          "shell.execute_reply.started": "2024-10-16T09:22:24.403671Z",
          "shell.execute_reply": "2024-10-16T09:22:24.41163Z"
        },
        "id": "j6rAnCImq_j8"
      }
    },
    {
      "cell_type": "markdown",
      "source": [
        "<h3>Ticket Feature have Most featue value which least proabibility or impacted feature of prediction of survival\n",
        "Hence We reomve Ticket Column from datasets\n",
        "</h3>"
      ],
      "metadata": {
        "execution": {
          "iopub.status.busy": "2024-10-16T09:30:27.19321Z",
          "iopub.execute_input": "2024-10-16T09:30:27.19373Z",
          "iopub.status.idle": "2024-10-16T09:30:27.203631Z",
          "shell.execute_reply.started": "2024-10-16T09:30:27.193682Z",
          "shell.execute_reply": "2024-10-16T09:30:27.201607Z"
        },
        "id": "yBj3esZ8q_j8"
      }
    },
    {
      "cell_type": "code",
      "source": [
        "df.drop(['Cabin', 'Ticket'], axis=1, inplace=True)\n"
      ],
      "metadata": {
        "execution": {
          "iopub.status.busy": "2024-10-16T12:32:04.46722Z",
          "iopub.execute_input": "2024-10-16T12:32:04.467695Z",
          "iopub.status.idle": "2024-10-16T12:32:04.476002Z",
          "shell.execute_reply.started": "2024-10-16T12:32:04.46765Z",
          "shell.execute_reply": "2024-10-16T12:32:04.474444Z"
        },
        "trusted": true,
        "id": "wbgMhHWIq_j9"
      },
      "execution_count": null,
      "outputs": []
    },
    {
      "cell_type": "code",
      "source": [
        "df.head()"
      ],
      "metadata": {
        "execution": {
          "iopub.status.busy": "2024-10-16T12:32:04.477782Z",
          "iopub.execute_input": "2024-10-16T12:32:04.478282Z",
          "iopub.status.idle": "2024-10-16T12:32:04.502674Z",
          "shell.execute_reply.started": "2024-10-16T12:32:04.478233Z",
          "shell.execute_reply": "2024-10-16T12:32:04.50122Z"
        },
        "trusted": true,
        "id": "LOiNtgQ9q_j9"
      },
      "execution_count": null,
      "outputs": []
    },
    {
      "cell_type": "code",
      "source": [
        "df.info()"
      ],
      "metadata": {
        "execution": {
          "iopub.status.busy": "2024-10-16T12:32:04.506225Z",
          "iopub.execute_input": "2024-10-16T12:32:04.507341Z",
          "iopub.status.idle": "2024-10-16T12:32:04.525947Z",
          "shell.execute_reply.started": "2024-10-16T12:32:04.507286Z",
          "shell.execute_reply": "2024-10-16T12:32:04.524398Z"
        },
        "trusted": true,
        "id": "s1u7eJ9oq_j-"
      },
      "execution_count": null,
      "outputs": []
    },
    {
      "cell_type": "code",
      "source": [
        "df.describe(include='all')"
      ],
      "metadata": {
        "execution": {
          "iopub.status.busy": "2024-10-16T12:32:04.527993Z",
          "iopub.execute_input": "2024-10-16T12:32:04.528863Z",
          "iopub.status.idle": "2024-10-16T12:32:04.58796Z",
          "shell.execute_reply.started": "2024-10-16T12:32:04.528772Z",
          "shell.execute_reply": "2024-10-16T12:32:04.586433Z"
        },
        "trusted": true,
        "id": "nVPC3ZdKq_j-"
      },
      "execution_count": null,
      "outputs": []
    },
    {
      "cell_type": "code",
      "source": [
        "plt.figure(figsize=(10,5))\n",
        "\n",
        "plt.subplot(2,2,1)\n",
        "df['Age'].plot(kind='box')\n",
        "plt.subplot(2,2,2)\n",
        "df['Age'].plot(kind='hist')\n",
        "\n",
        "\n",
        "plt.subplot(2,2,3)\n",
        "df['Fare'].plot(kind='box')\n",
        "plt.subplot(2,2,4)\n",
        "df['Fare'].plot(kind='kde')\n",
        "\n",
        "\n",
        "\n",
        "plt.tight_layout()\n",
        "\n",
        "plt.show()\n"
      ],
      "metadata": {
        "execution": {
          "iopub.status.busy": "2024-10-16T12:32:04.58944Z",
          "iopub.execute_input": "2024-10-16T12:32:04.589875Z",
          "iopub.status.idle": "2024-10-16T12:32:05.594758Z",
          "shell.execute_reply.started": "2024-10-16T12:32:04.589831Z",
          "shell.execute_reply": "2024-10-16T12:32:05.591565Z"
        },
        "trusted": true,
        "id": "AD0uA_YLq_j-"
      },
      "execution_count": null,
      "outputs": []
    },
    {
      "cell_type": "code",
      "source": [
        "#Fare Column Have 512 Fare Is Extreme Outier hender we remove that records\n",
        "#Fare Columns Have Skew right which might affeteced model performance ,Hence to overcome the skew effect we convert them into bins\n",
        "df[['Age','Fare']].skew()"
      ],
      "metadata": {
        "execution": {
          "iopub.status.busy": "2024-10-16T12:32:05.597221Z",
          "iopub.execute_input": "2024-10-16T12:32:05.597736Z",
          "iopub.status.idle": "2024-10-16T12:32:05.613516Z",
          "shell.execute_reply.started": "2024-10-16T12:32:05.597686Z",
          "shell.execute_reply": "2024-10-16T12:32:05.611669Z"
        },
        "trusted": true,
        "id": "UVUc64Bwq_j-"
      },
      "execution_count": null,
      "outputs": []
    },
    {
      "cell_type": "code",
      "source": [
        "df['Embarked'].value_counts()"
      ],
      "metadata": {
        "execution": {
          "iopub.status.busy": "2024-10-16T12:32:05.618915Z",
          "iopub.execute_input": "2024-10-16T12:32:05.619394Z",
          "iopub.status.idle": "2024-10-16T12:32:05.631521Z",
          "shell.execute_reply.started": "2024-10-16T12:32:05.619346Z",
          "shell.execute_reply": "2024-10-16T12:32:05.629887Z"
        },
        "trusted": true,
        "id": "XrxFbBT9q_j_"
      },
      "execution_count": null,
      "outputs": []
    },
    {
      "cell_type": "code",
      "source": [
        "print('Avg Fare',df[df['Fare']>100]['Fare'].median())\n",
        "print('Avg Age',df['Age'].median())\n",
        "df['Embarked'].value_counts()"
      ],
      "metadata": {
        "execution": {
          "iopub.status.busy": "2024-10-16T12:32:05.633163Z",
          "iopub.execute_input": "2024-10-16T12:32:05.633692Z",
          "iopub.status.idle": "2024-10-16T12:32:05.654325Z",
          "shell.execute_reply.started": "2024-10-16T12:32:05.633631Z",
          "shell.execute_reply": "2024-10-16T12:32:05.652788Z"
        },
        "trusted": true,
        "id": "KhkTFq0wq_j_"
      },
      "execution_count": null,
      "outputs": []
    },
    {
      "cell_type": "markdown",
      "source": [
        "<h3>Missing Or Null Value Imputation</h3>"
      ],
      "metadata": {
        "id": "ls_i0Kixq_j_"
      }
    },
    {
      "cell_type": "code",
      "source": [
        "df['Age']=df['Age'].fillna(df['Age'].median())\n",
        "\n",
        "df['Fare']=df['Fare'].fillna(df[df['Fare']>100]['Fare'].median())\n",
        "\n",
        "df['Embarked']=df['Embarked'].fillna('S')\n"
      ],
      "metadata": {
        "execution": {
          "iopub.status.busy": "2024-10-16T12:32:05.656018Z",
          "iopub.execute_input": "2024-10-16T12:32:05.656427Z",
          "iopub.status.idle": "2024-10-16T12:32:05.669627Z",
          "shell.execute_reply.started": "2024-10-16T12:32:05.656385Z",
          "shell.execute_reply": "2024-10-16T12:32:05.668072Z"
        },
        "trusted": true,
        "id": "FFOzsijcq_kA"
      },
      "execution_count": null,
      "outputs": []
    },
    {
      "cell_type": "code",
      "source": [
        "fare_bins = [0, 7.89, 14.45, 31.07, 100, 263]\n",
        "# Define professional labels for each bin\n",
        "fare_labels = ['Very Low Fare', 'Low Fare', 'Moderate Fare', 'High Fare', 'Very High Fare']\n",
        "# Create a new column 'Fare_bin' by binning the 'Fare' column\n",
        "df['Fare_bin'] = pd.cut(df['Fare'], bins=fare_bins, labels=fare_labels, include_lowest=True)\n",
        "\n",
        "age_bins = [0, 12, 21, 28, 39, 80]\n",
        "\n",
        "# Define professional labels for each bin\n",
        "age_labels = ['Child', 'Teenager', 'Young Adult', 'Adult', 'Senior']\n",
        "\n",
        "# Create a new column 'Age_bin' by binning the 'Age' column\n",
        "df['Age_bin'] = pd.cut(df['Age'], bins=age_bins, labels=age_labels, include_lowest=True)"
      ],
      "metadata": {
        "execution": {
          "iopub.status.busy": "2024-10-16T12:32:05.671504Z",
          "iopub.execute_input": "2024-10-16T12:32:05.672089Z",
          "iopub.status.idle": "2024-10-16T12:32:05.689737Z",
          "shell.execute_reply.started": "2024-10-16T12:32:05.672026Z",
          "shell.execute_reply": "2024-10-16T12:32:05.688355Z"
        },
        "trusted": true,
        "id": "S-5zJ1PTq_kA"
      },
      "execution_count": null,
      "outputs": []
    },
    {
      "cell_type": "markdown",
      "source": [
        "<ul>\n",
        "    <li>\n",
        "        <strong>Age Bins:</strong>\n",
        "    </li>\n",
        "    <ul>\n",
        "        <li>Child: (0 - 12)</li>\n",
        "        <li>Teenager: (12 - 21)</li>\n",
        "        <li>Young Adult: (21 - 28)</li>\n",
        "        <li>Adult: (28 - 39)</li>\n",
        "        <li>Senior: (39 - 80)</li>\n",
        "    </ul>\n",
        "</ul>\n",
        "\n",
        "<ul>\n",
        "    <li>\n",
        "        <strong>Fare Bins:</strong>\n",
        "    </li>\n",
        "    <ul>\n",
        "        <li>Very Low Fare: (0 - 7.89)</li>\n",
        "        <li>Low Fare: (7.89 - 14.45)</li>\n",
        "        <li>Moderate Fare: (14.45 - 31.07)</li>\n",
        "        <li>High Fare: (31.07 - 100)</li>\n",
        "        <li>Very High Fare: (100 - 263)</li>\n",
        "    </ul>\n",
        "</ul>\n"
      ],
      "metadata": {
        "id": "BaDosBdYq_kA"
      }
    },
    {
      "cell_type": "code",
      "source": [
        "df.head()"
      ],
      "metadata": {
        "execution": {
          "iopub.status.busy": "2024-10-16T12:32:05.691739Z",
          "iopub.execute_input": "2024-10-16T12:32:05.692326Z",
          "iopub.status.idle": "2024-10-16T12:32:05.731422Z",
          "shell.execute_reply.started": "2024-10-16T12:32:05.692263Z",
          "shell.execute_reply": "2024-10-16T12:32:05.73006Z"
        },
        "trusted": true,
        "id": "F1G8wXYTq_kB"
      },
      "execution_count": null,
      "outputs": []
    },
    {
      "cell_type": "code",
      "source": [
        "#remove unwanted columns from datasets\n",
        "df.drop(['Fare',\"Age\"],axis=1,inplace=True)"
      ],
      "metadata": {
        "execution": {
          "iopub.status.busy": "2024-10-16T12:32:05.733853Z",
          "iopub.execute_input": "2024-10-16T12:32:05.734286Z",
          "iopub.status.idle": "2024-10-16T12:32:05.746341Z",
          "shell.execute_reply.started": "2024-10-16T12:32:05.734242Z",
          "shell.execute_reply": "2024-10-16T12:32:05.744914Z"
        },
        "trusted": true,
        "id": "WkRv6TBcq_kB"
      },
      "execution_count": null,
      "outputs": []
    },
    {
      "cell_type": "code",
      "source": [
        "df.head()"
      ],
      "metadata": {
        "execution": {
          "iopub.status.busy": "2024-10-16T12:32:05.748087Z",
          "iopub.execute_input": "2024-10-16T12:32:05.748526Z",
          "iopub.status.idle": "2024-10-16T12:32:05.781617Z",
          "shell.execute_reply.started": "2024-10-16T12:32:05.748478Z",
          "shell.execute_reply": "2024-10-16T12:32:05.77888Z"
        },
        "trusted": true,
        "id": "6qCeqS7Sq_kC"
      },
      "execution_count": null,
      "outputs": []
    },
    {
      "cell_type": "code",
      "source": [
        "df['Name']"
      ],
      "metadata": {
        "execution": {
          "iopub.status.busy": "2024-10-16T12:32:05.783513Z",
          "iopub.execute_input": "2024-10-16T12:32:05.78404Z",
          "iopub.status.idle": "2024-10-16T12:32:05.802184Z",
          "shell.execute_reply.started": "2024-10-16T12:32:05.783993Z",
          "shell.execute_reply": "2024-10-16T12:32:05.800558Z"
        },
        "trusted": true,
        "id": "Tu-pclbjq_kD"
      },
      "execution_count": null,
      "outputs": []
    },
    {
      "cell_type": "code",
      "source": [
        "def get_unique_titles(names_list):\n",
        "    parts = names_list.split(',')\n",
        "    if len(parts) > 1:\n",
        "        title = parts[1].split('.')[0].strip()\n",
        "        return title\n",
        "    else:\n",
        "        return 'Unknown'\n",
        "\n",
        "\n"
      ],
      "metadata": {
        "execution": {
          "iopub.status.busy": "2024-10-16T12:32:05.804071Z",
          "iopub.execute_input": "2024-10-16T12:32:05.80488Z",
          "iopub.status.idle": "2024-10-16T12:32:05.817913Z",
          "shell.execute_reply.started": "2024-10-16T12:32:05.804793Z",
          "shell.execute_reply": "2024-10-16T12:32:05.815672Z"
        },
        "trusted": true,
        "id": "5SGyzvFeq_kD"
      },
      "execution_count": null,
      "outputs": []
    },
    {
      "cell_type": "code",
      "source": [
        "df['Title'] = df['Name'].apply(get_unique_titles)\n"
      ],
      "metadata": {
        "execution": {
          "iopub.status.busy": "2024-10-16T12:32:05.819732Z",
          "iopub.execute_input": "2024-10-16T12:32:05.820258Z",
          "iopub.status.idle": "2024-10-16T12:32:05.840205Z",
          "shell.execute_reply.started": "2024-10-16T12:32:05.820212Z",
          "shell.execute_reply": "2024-10-16T12:32:05.838695Z"
        },
        "trusted": true,
        "id": "qcwHsgXEq_kD"
      },
      "execution_count": null,
      "outputs": []
    },
    {
      "cell_type": "code",
      "source": [
        "#We can seet that After Master There few title which are less than 10 records hence we convert them into Others\n",
        "df['Title'].value_counts()"
      ],
      "metadata": {
        "execution": {
          "iopub.status.busy": "2024-10-16T12:32:05.842295Z",
          "iopub.execute_input": "2024-10-16T12:32:05.842788Z",
          "iopub.status.idle": "2024-10-16T12:32:05.861984Z",
          "shell.execute_reply.started": "2024-10-16T12:32:05.842725Z",
          "shell.execute_reply": "2024-10-16T12:32:05.860011Z"
        },
        "trusted": true,
        "id": "ZiBaXRHTq_kE"
      },
      "execution_count": null,
      "outputs": []
    },
    {
      "cell_type": "code",
      "source": [
        "titles_to_keep = ['Mr', 'Miss', 'Mrs', 'Master']\n",
        "\n",
        "df['Title'] = df['Title'].apply(lambda x: x if x in titles_to_keep else 'Others')\n",
        "\n",
        "df['Title'].value_counts()"
      ],
      "metadata": {
        "execution": {
          "iopub.status.busy": "2024-10-16T12:32:05.870256Z",
          "iopub.execute_input": "2024-10-16T12:32:05.87078Z",
          "iopub.status.idle": "2024-10-16T12:32:05.889258Z",
          "shell.execute_reply.started": "2024-10-16T12:32:05.870731Z",
          "shell.execute_reply": "2024-10-16T12:32:05.887707Z"
        },
        "trusted": true,
        "id": "GQdcflisq_kE"
      },
      "execution_count": null,
      "outputs": []
    },
    {
      "cell_type": "code",
      "source": [
        "df.drop(['Name'],axis=1,inplace=True)"
      ],
      "metadata": {
        "execution": {
          "iopub.status.busy": "2024-10-16T12:32:05.891462Z",
          "iopub.execute_input": "2024-10-16T12:32:05.892019Z",
          "iopub.status.idle": "2024-10-16T12:32:05.905712Z",
          "shell.execute_reply.started": "2024-10-16T12:32:05.891972Z",
          "shell.execute_reply": "2024-10-16T12:32:05.903775Z"
        },
        "trusted": true,
        "id": "w7GfGyrXq_kF"
      },
      "execution_count": null,
      "outputs": []
    },
    {
      "cell_type": "code",
      "source": [
        "df.head()"
      ],
      "metadata": {
        "execution": {
          "iopub.status.busy": "2024-10-16T12:32:05.907667Z",
          "iopub.execute_input": "2024-10-16T12:32:05.908327Z",
          "iopub.status.idle": "2024-10-16T12:32:05.935639Z",
          "shell.execute_reply.started": "2024-10-16T12:32:05.908164Z",
          "shell.execute_reply": "2024-10-16T12:32:05.934243Z"
        },
        "trusted": true,
        "id": "iaNfbcxnq_kF"
      },
      "execution_count": null,
      "outputs": []
    },
    {
      "cell_type": "markdown",
      "source": [
        "<p>SibSp: Number of siblings and spouses aboard.</p>\n",
        "<p>Parch: Number of parents and children aboard.</p>\n",
        "<p>So we create a new feature called FamilySize.</p>\n"
      ],
      "metadata": {
        "id": "jHhDcEjlq_kF"
      }
    },
    {
      "cell_type": "code",
      "source": [
        "df['FamilySize']=df['SibSp']+df['Parch']\n",
        "df.head()"
      ],
      "metadata": {
        "execution": {
          "iopub.status.busy": "2024-10-16T12:32:05.937117Z",
          "iopub.execute_input": "2024-10-16T12:32:05.937524Z",
          "iopub.status.idle": "2024-10-16T12:32:05.968018Z",
          "shell.execute_reply.started": "2024-10-16T12:32:05.937474Z",
          "shell.execute_reply": "2024-10-16T12:32:05.965502Z"
        },
        "trusted": true,
        "id": "aYkS4yxPq_kP"
      },
      "execution_count": null,
      "outputs": []
    },
    {
      "cell_type": "code",
      "source": [
        "df['FamilySize'].plot(kind='hist')"
      ],
      "metadata": {
        "execution": {
          "iopub.status.busy": "2024-10-16T12:32:05.9702Z",
          "iopub.execute_input": "2024-10-16T12:32:05.97079Z",
          "iopub.status.idle": "2024-10-16T12:32:06.335583Z",
          "shell.execute_reply.started": "2024-10-16T12:32:05.970743Z",
          "shell.execute_reply": "2024-10-16T12:32:06.334199Z"
        },
        "trusted": true,
        "id": "pVQ_Rhrpq_kP"
      },
      "execution_count": null,
      "outputs": []
    },
    {
      "cell_type": "markdown",
      "source": [
        "<p>Here’s how you can categorize family sizes into bins:</p>\n",
        "<ul>\n",
        "    <li><strong>Single (0)</strong>: No family members aboard.</li>\n",
        "    <li><strong>Small Family (1-2)</strong>: 1 or 2 family members aboard.</li>\n",
        "    <li><strong>Medium Family (3-4)</strong>: 3 or 4 family members aboard.</li>\n",
        "    <li><strong>Large Family (5-6)</strong>: 5 or 6 family members aboard.</li>\n",
        "    <li><strong>Very Large Family (7+)</strong>: 7 or more family members aboard.</li>\n",
        "</ul>\n"
      ],
      "metadata": {
        "id": "eTfAbMEBq_kP"
      }
    },
    {
      "cell_type": "code",
      "source": [
        "bins = [-1, 0, 2, 4, 6, 10]  # -1 is included to capture 0\n",
        "labels = ['Single', 'Small Family', 'Medium Family', 'Large Family', 'Very Large Family']\n",
        "\n",
        "# Create the FamilySize bin feature\n",
        "df['FamilySizeCategory'] = pd.cut(df['FamilySize'], bins=bins, labels=labels)\n",
        "df['FamilySizeCategory'].value_counts()"
      ],
      "metadata": {
        "execution": {
          "iopub.status.busy": "2024-10-16T12:32:06.337529Z",
          "iopub.execute_input": "2024-10-16T12:32:06.338098Z",
          "iopub.status.idle": "2024-10-16T12:32:06.359107Z",
          "shell.execute_reply.started": "2024-10-16T12:32:06.338036Z",
          "shell.execute_reply": "2024-10-16T12:32:06.356888Z"
        },
        "trusted": true,
        "id": "wkXTJ6OVq_kQ"
      },
      "execution_count": null,
      "outputs": []
    },
    {
      "cell_type": "code",
      "source": [
        "df.drop(['FamilySize','SibSp','Parch'],axis=1,inplace=True)"
      ],
      "metadata": {
        "execution": {
          "iopub.status.busy": "2024-10-16T12:32:06.362071Z",
          "iopub.execute_input": "2024-10-16T12:32:06.363023Z",
          "iopub.status.idle": "2024-10-16T12:32:06.374398Z",
          "shell.execute_reply.started": "2024-10-16T12:32:06.362795Z",
          "shell.execute_reply": "2024-10-16T12:32:06.372277Z"
        },
        "trusted": true,
        "id": "umcM5paMq_kR"
      },
      "execution_count": null,
      "outputs": []
    },
    {
      "cell_type": "code",
      "source": [
        "df.head()"
      ],
      "metadata": {
        "execution": {
          "iopub.status.busy": "2024-10-16T12:32:06.376392Z",
          "iopub.execute_input": "2024-10-16T12:32:06.376923Z",
          "iopub.status.idle": "2024-10-16T12:32:06.407828Z",
          "shell.execute_reply.started": "2024-10-16T12:32:06.376838Z",
          "shell.execute_reply": "2024-10-16T12:32:06.405476Z"
        },
        "trusted": true,
        "id": "VfxNvrgrq_kR"
      },
      "execution_count": null,
      "outputs": []
    },
    {
      "cell_type": "code",
      "source": [
        "df.info()"
      ],
      "metadata": {
        "execution": {
          "iopub.status.busy": "2024-10-16T12:32:06.409833Z",
          "iopub.execute_input": "2024-10-16T12:32:06.410456Z",
          "iopub.status.idle": "2024-10-16T12:32:06.437234Z",
          "shell.execute_reply.started": "2024-10-16T12:32:06.410373Z",
          "shell.execute_reply": "2024-10-16T12:32:06.43513Z"
        },
        "trusted": true,
        "id": "QFzbrj1Xq_kR"
      },
      "execution_count": null,
      "outputs": []
    },
    {
      "cell_type": "markdown",
      "source": [
        "<h3>Chi-Squared Test & Contingency Table </h3>"
      ],
      "metadata": {
        "id": "8ifK_VjVq_kS"
      }
    },
    {
      "cell_type": "code",
      "source": [
        "def chi_squared_test(df, categorical_variable):\n",
        "    # Create a contingency table\n",
        "    contingency_table = pd.crosstab(df[categorical_variable], df['Survived'])\n",
        "\n",
        "    # Perform Chi-Squared test\n",
        "    chi2, p, dof, expected = chi2_contingency(contingency_table)\n",
        "\n",
        "    return chi2, p, contingency_table\n",
        "\n",
        "# List of categorical variables to test\n",
        "categorical_variables = ['Pclass','Sex','Embarked','Fare_bin', 'Age_bin', 'Title', 'FamilySizeCategory']\n",
        "\n",
        "# Perform Chi-Squared test for each variable and store results\n",
        "results = {}\n",
        "for variable in categorical_variables:\n",
        "    chi2_stat, p_value, contingency = chi_squared_test(df, variable)\n",
        "    results[variable] = {\n",
        "        'Chi-Squared Statistic': chi2_stat,\n",
        "        'p-value': p_value,\n",
        "        'Contingency Table': contingency\n",
        "    }\n",
        "\n",
        "# Display results\n",
        "for variable, result in results.items():\n",
        "    print(f\"Variable: {variable}\")\n",
        "    print(f\"Chi-Squared Statistic: {result['Chi-Squared Statistic']:.4f}\")\n",
        "    print(f\"p-value: {result['p-value']:.4f}\")\n",
        "    print(\"Contingency Table:\")\n",
        "    print(result['Contingency Table'])\n",
        "    print(\"\\n\" + \"-\"*40 + \"\\n\")"
      ],
      "metadata": {
        "execution": {
          "iopub.status.busy": "2024-10-16T12:32:06.439849Z",
          "iopub.execute_input": "2024-10-16T12:32:06.440388Z",
          "iopub.status.idle": "2024-10-16T12:32:06.548333Z",
          "shell.execute_reply.started": "2024-10-16T12:32:06.440315Z",
          "shell.execute_reply": "2024-10-16T12:32:06.54691Z"
        },
        "trusted": true,
        "id": "7ahksTFVq_kT"
      },
      "execution_count": null,
      "outputs": []
    },
    {
      "cell_type": "markdown",
      "source": [
        "<h3>Interpreting Results</h3>\n",
        "Chi-Squared Statistic: A larger value indicates a stronger association between the categorical variable and survival.\n",
        "\n",
        "p-value: Typically, a p-value less than 0.05 suggests that there is a statistically significant association between the categorical variable and survival.\n",
        "\n",
        "By following Above process, you can analyze how different categorical factors relate to survival on the Titanic."
      ],
      "metadata": {
        "execution": {
          "iopub.status.busy": "2024-10-16T10:40:22.554946Z",
          "iopub.execute_input": "2024-10-16T10:40:22.555402Z",
          "iopub.status.idle": "2024-10-16T10:40:22.565416Z",
          "shell.execute_reply.started": "2024-10-16T10:40:22.555359Z",
          "shell.execute_reply": "2024-10-16T10:40:22.563689Z"
        },
        "id": "Y-WjBuUXq_kU"
      }
    },
    {
      "cell_type": "markdown",
      "source": [
        "<div>\n",
        "  <h2>The features most significantly associated with survival on the Titanic are as follows:</h2>\n",
        "  <ul>\n",
        "    <li><strong>Sex:</strong> Females had the highest survival rates.</li>\n",
        "    <li><strong>Title:</strong> Titles reflect gender and social status, correlating strongly with survival chances.</li>\n",
        "    <li><strong>Pclass:</strong> Higher-class passengers (1st class) had much better survival rates compared to lower classes.</li>\n",
        "    <li><strong>Fare_bin:</strong> Passengers paying higher fares had better survival chances, consistent with class associations.</li>\n",
        "    <li><strong>Embarked:</strong> The port of embarkation also plays a role, with certain ports having higher survival rates.</li>\n",
        "    <li><strong>FamilySizeCategory:</strong> While significant, family size was less impactful than the above features.</li>\n",
        "    <li><strong>Age_bin:</strong> Although significant, age had the weakest association among these features, with children having the highest survival rates.</li>\n",
        "  </ul>\n",
        "  <h3>In summary, Sex and Pclass emerge as the most impactful features regarding survival on the Titanic, closely followed by Title.</h3>\n",
        "</div>\n"
      ],
      "metadata": {
        "id": "ejLlIjUPq_kU"
      }
    },
    {
      "cell_type": "markdown",
      "source": [
        "<h2>Data Visulization</h2>"
      ],
      "metadata": {
        "id": "as8RImDzq_kV"
      }
    },
    {
      "cell_type": "markdown",
      "source": [
        "<h4>Univarite Analysis</h4>"
      ],
      "metadata": {
        "id": "9fob-jXZq_kV"
      }
    },
    {
      "cell_type": "code",
      "source": [
        "categorical_cols = ['Survived', 'Pclass', 'Sex', 'Embarked',\n",
        "                    'Fare_bin', 'Age_bin', 'Title', 'FamilySizeCategory']\n",
        "\n",
        "# Set up the subplot grid\n",
        "n_cols = 2\n",
        "n_rows = (len(categorical_cols) + n_cols - 1) // n_cols\n",
        "\n",
        "fig, axes = plt.subplots(n_rows, n_cols, figsize=(12, n_rows * 4))\n",
        "axes = axes.flatten()  # Flatten to easily index\n",
        "\n",
        "# Create bar plots for each categorical column using sns.barplot\n",
        "for idx, col in enumerate(categorical_cols):\n",
        "    # Calculate counts\n",
        "    counts = df[col].value_counts().reset_index()\n",
        "    counts.columns = [col, 'Count']  # Rename columns for clarity\n",
        "\n",
        "    # Create the bar plot\n",
        "    sns.barplot(data=counts, x=col, y='Count', ax=axes[idx], palette='coolwarm')\n",
        "\n",
        "    axes[idx].set_title(f'Count of {col}')\n",
        "    axes[idx].set_ylabel('Count')\n",
        "    axes[idx].set_xlabel(col)\n",
        "\n",
        "    # Annotate the bars with their values\n",
        "    for p in axes[idx].patches:\n",
        "        axes[idx].annotate(f'{int(p.get_height())}',\n",
        "                           (p.get_x() + p.get_width() / 2., p.get_height()),\n",
        "                           ha='center', va='bottom',\n",
        "                           fontsize=10, color='black',\n",
        "                           xytext=(0, 5),  # 5 points vertical offset\n",
        "                           textcoords='offset points')\n",
        "\n",
        "# Remove any empty subplots\n",
        "for j in range(idx + 1, len(axes)):\n",
        "    fig.delaxes(axes[j])\n",
        "\n",
        "plt.tight_layout()\n",
        "plt.show()"
      ],
      "metadata": {
        "execution": {
          "iopub.status.busy": "2024-10-16T12:32:06.549951Z",
          "iopub.execute_input": "2024-10-16T12:32:06.550411Z",
          "iopub.status.idle": "2024-10-16T12:32:09.011673Z",
          "shell.execute_reply.started": "2024-10-16T12:32:06.550365Z",
          "shell.execute_reply": "2024-10-16T12:32:09.009639Z"
        },
        "trusted": true,
        "id": "N70GNtEcq_kV"
      },
      "execution_count": null,
      "outputs": []
    },
    {
      "cell_type": "markdown",
      "source": [
        "<h4>Bivarite Analysis</h4>"
      ],
      "metadata": {
        "id": "r1zZ4U-5q_kX"
      }
    },
    {
      "cell_type": "markdown",
      "source": [
        "<h3>\n",
        "Now we analyze features with respect to survival to gain additional knowledge. We have the \"Survived\" column in the training data with 888 records. In univariate analysis, we consider the total count from both the training and test datasets. However, in bivariate analysis, we only work with the training data to identify patterns.\n",
        "</h3>"
      ],
      "metadata": {
        "id": "SmMqOgAcq_kY"
      }
    },
    {
      "cell_type": "code",
      "source": [
        "#Survival Analysis by Demographics:\n",
        "#Investigate survival rates across different age groups and genders.\n",
        "Demographics_crosstab=pd.crosstab(index=df['Pclass'],columns=[df['Sex'],df['Age_bin'],df['Survived']])\n",
        "plt.figure(figsize=(14, 6))\n",
        "sns.heatmap(Demographics_crosstab, annot=True, fmt='d', cmap='viridis', cbar_kws={'label': 'Count'})\n",
        "plt.title('Survival Count by Age and Sex')\n",
        "plt.ylabel('Pclass')\n",
        "plt.xlabel('Sex and Survival Status')\n",
        "plt.xticks(rotation=45)\n",
        "plt.tight_layout()\n",
        "plt.show()"
      ],
      "metadata": {
        "execution": {
          "iopub.status.busy": "2024-10-16T12:32:09.013692Z",
          "iopub.execute_input": "2024-10-16T12:32:09.014391Z",
          "iopub.status.idle": "2024-10-16T12:32:09.800568Z",
          "shell.execute_reply.started": "2024-10-16T12:32:09.014322Z",
          "shell.execute_reply": "2024-10-16T12:32:09.797653Z"
        },
        "trusted": true,
        "id": "XAW67cH6q_kY"
      },
      "execution_count": null,
      "outputs": []
    },
    {
      "cell_type": "markdown",
      "source": [
        "**From the above chart, it is evident that male passengers in Pclass 3 who fall into the Teenager age category were the least likely to have survived.**"
      ],
      "metadata": {
        "id": "ViuPPGnaq_kZ"
      }
    },
    {
      "cell_type": "code",
      "source": [
        "#Socioeconomic Impact:\n",
        "#Analyze how class and fare influence survival rates.\n",
        "Socioeconomic_crosstab=pd.crosstab(index=df['Pclass'],columns=[df['Fare_bin'],df['Survived']])\n",
        "plt.figure(figsize=(14, 6))\n",
        "sns.heatmap(Socioeconomic_crosstab, annot=True, fmt='d', cmap='viridis', cbar_kws={'label': 'Count'})\n",
        "plt.title('Survival Count by Age and Sex')\n",
        "plt.ylabel('Pclass')\n",
        "plt.xlabel('Fare and Survival Status')\n",
        "plt.xticks(rotation=45)\n",
        "plt.tight_layout()\n",
        "plt.show()"
      ],
      "metadata": {
        "execution": {
          "iopub.status.busy": "2024-10-16T12:32:09.803401Z",
          "iopub.execute_input": "2024-10-16T12:32:09.803877Z",
          "iopub.status.idle": "2024-10-16T12:32:10.539635Z",
          "shell.execute_reply.started": "2024-10-16T12:32:09.80383Z",
          "shell.execute_reply": "2024-10-16T12:32:10.537928Z"
        },
        "trusted": true,
        "id": "DwqRzQNIq_ka"
      },
      "execution_count": null,
      "outputs": []
    },
    {
      "cell_type": "markdown",
      "source": [
        "**From the above chart, it is evident that out of a total of 888 passengers in Pclass 3, 264 did not survive. Among those who did not survive, 130 belonged to the \"Very Low Fare\" category, while 134 were in the \"Low Fare\" category.**"
      ],
      "metadata": {
        "id": "x7R350wWq_ka"
      }
    },
    {
      "cell_type": "code",
      "source": [
        "#Family and Social Structure Impact:\n",
        "#Examine whether family size affected survival chances.\n",
        "\n",
        "family_crosstab=pd.crosstab(index=df['FamilySizeCategory'],columns=[df['Survived']])\n",
        "plt.figure(figsize=(5, 3))\n",
        "sns.heatmap(family_crosstab, annot=True, fmt='d', cmap='viridis', cbar_kws={'label': 'Count'})\n",
        "plt.title('Survival Count by Age and Sex')\n",
        "plt.ylabel('Family Size')\n",
        "plt.xlabel('Survival Status')\n",
        "plt.xticks(rotation=45)\n",
        "plt.tight_layout()\n",
        "plt.show()"
      ],
      "metadata": {
        "execution": {
          "iopub.status.busy": "2024-10-16T12:32:10.542013Z",
          "iopub.execute_input": "2024-10-16T12:32:10.542571Z",
          "iopub.status.idle": "2024-10-16T12:32:11.039421Z",
          "shell.execute_reply.started": "2024-10-16T12:32:10.542508Z",
          "shell.execute_reply": "2024-10-16T12:32:11.03788Z"
        },
        "trusted": true,
        "id": "0E6QjbB8q_ka"
      },
      "execution_count": null,
      "outputs": []
    },
    {
      "cell_type": "code",
      "source": [
        "title_crosstab = pd.crosstab(index=df['Title'], columns=[df['Survived']])\n",
        "# Travel Origin Analysis\n",
        "embarked_crosstab = pd.crosstab(index=df['Embarked'], columns=[df['Survived']])\n",
        "\n",
        "# Set up the figure with 1 row and 2 columns\n",
        "plt.figure(figsize=(12, 5))\n",
        "\n",
        "# Subplot for Title Analysis\n",
        "plt.subplot(1, 2, 1)\n",
        "sns.heatmap(title_crosstab, annot=True, fmt='d', cmap='viridis', cbar_kws={'label': 'Count'})\n",
        "plt.title('Survival Count by Title')\n",
        "plt.ylabel('Title')\n",
        "plt.xlabel('Survival Status')\n",
        "plt.xticks(rotation=45)\n",
        "\n",
        "# Subplot for Travel Origin Analysis\n",
        "plt.subplot(1, 2, 2)\n",
        "sns.heatmap(embarked_crosstab, annot=True, fmt='d', cmap='viridis', cbar_kws={'label': 'Count'})\n",
        "plt.title('Survival Count by Embarkation Point')\n",
        "plt.ylabel('Embarkation Point')\n",
        "plt.xlabel('Survival Status')\n",
        "plt.xticks(rotation=45)\n",
        "\n",
        "# Adjust layout\n",
        "plt.tight_layout()\n",
        "plt.show()"
      ],
      "metadata": {
        "execution": {
          "iopub.status.busy": "2024-10-16T12:32:11.041401Z",
          "iopub.execute_input": "2024-10-16T12:32:11.041863Z",
          "iopub.status.idle": "2024-10-16T12:32:11.971236Z",
          "shell.execute_reply.started": "2024-10-16T12:32:11.0418Z",
          "shell.execute_reply": "2024-10-16T12:32:11.969638Z"
        },
        "trusted": true,
        "id": "-eT_OFcMq_kb"
      },
      "execution_count": null,
      "outputs": []
    },
    {
      "cell_type": "markdown",
      "source": [
        "**From the chart, it is evident that passengers with the title 'Mrs.' had the highest number of non-survivors,\n",
        "totaling 436, while the embarkation point with the highest number of non-survivors was 'S,' with 427 passengers not surviving.**\n"
      ],
      "metadata": {
        "id": "_Rkiuzdrq_kb"
      }
    },
    {
      "cell_type": "code",
      "source": [
        "family_crosstab=pd.crosstab(index=df['Survived'],columns=[df['Sex'],df['Embarked'],df['Pclass'],df['Fare_bin']])\n",
        "plt.figure(figsize=(30, 5))\n",
        "sns.heatmap(family_crosstab, annot=True, fmt='d', cmap='viridis', cbar_kws={'label': 'Count'})\n",
        "plt.title('Survival Count by Sex, Embarked,Pclass,Fare_bin')\n",
        "plt.ylabel('Survived')\n",
        "plt.xlabel('Sex, Embarked,Pclass,Fare_bin Status')\n",
        "plt.xticks(rotation=45)\n",
        "plt.tight_layout()\n",
        "plt.show()"
      ],
      "metadata": {
        "execution": {
          "iopub.status.busy": "2024-10-16T12:32:11.973385Z",
          "iopub.execute_input": "2024-10-16T12:32:11.973963Z",
          "iopub.status.idle": "2024-10-16T12:32:13.371298Z",
          "shell.execute_reply.started": "2024-10-16T12:32:11.973901Z",
          "shell.execute_reply": "2024-10-16T12:32:13.369326Z"
        },
        "trusted": true,
        "id": "ku1KLs18q_kc"
      },
      "execution_count": null,
      "outputs": []
    },
    {
      "cell_type": "markdown",
      "source": [
        "<h3>Model Building And Evalution</h3>"
      ],
      "metadata": {
        "execution": {
          "iopub.status.busy": "2024-10-16T10:58:53.252686Z",
          "iopub.execute_input": "2024-10-16T10:58:53.254072Z",
          "iopub.status.idle": "2024-10-16T10:58:53.271962Z",
          "shell.execute_reply.started": "2024-10-16T10:58:53.254015Z",
          "shell.execute_reply": "2024-10-16T10:58:53.270131Z"
        },
        "id": "ZCT6Skaiq_kc"
      }
    },
    {
      "cell_type": "code",
      "source": [
        "df.head()"
      ],
      "metadata": {
        "execution": {
          "iopub.status.busy": "2024-10-16T12:32:13.373749Z",
          "iopub.execute_input": "2024-10-16T12:32:13.374349Z",
          "iopub.status.idle": "2024-10-16T12:32:13.400048Z",
          "shell.execute_reply.started": "2024-10-16T12:32:13.374282Z",
          "shell.execute_reply": "2024-10-16T12:32:13.398132Z"
        },
        "trusted": true,
        "id": "8KEvy9iXq_kc"
      },
      "execution_count": null,
      "outputs": []
    },
    {
      "cell_type": "code",
      "source": [
        "df.columns"
      ],
      "metadata": {
        "execution": {
          "iopub.status.busy": "2024-10-16T12:32:13.402215Z",
          "iopub.execute_input": "2024-10-16T12:32:13.40274Z",
          "iopub.status.idle": "2024-10-16T12:32:13.421785Z",
          "shell.execute_reply.started": "2024-10-16T12:32:13.402692Z",
          "shell.execute_reply": "2024-10-16T12:32:13.41997Z"
        },
        "trusted": true,
        "id": "IqnOd8tYq_kd"
      },
      "execution_count": null,
      "outputs": []
    },
    {
      "cell_type": "code",
      "source": [
        "columns=['Sex', 'Embarked', 'Fare_bin', 'Age_bin', 'Title', 'FamilySizeCategory']\n",
        "\n",
        "from sklearn.preprocessing import LabelEncoder\n",
        "\n",
        "label_encoder=LabelEncoder()\n",
        "\n",
        "\n",
        "for column in columns:\n",
        "    df[column]= label_encoder.fit_transform(df[column])\n",
        "\n",
        "df.head()\n",
        "\n"
      ],
      "metadata": {
        "execution": {
          "iopub.status.busy": "2024-10-16T12:32:13.424491Z",
          "iopub.execute_input": "2024-10-16T12:32:13.425249Z",
          "iopub.status.idle": "2024-10-16T12:32:13.455543Z",
          "shell.execute_reply.started": "2024-10-16T12:32:13.425165Z",
          "shell.execute_reply": "2024-10-16T12:32:13.453748Z"
        },
        "trusted": true,
        "id": "RXaNOsLWq_kd"
      },
      "execution_count": null,
      "outputs": []
    },
    {
      "cell_type": "markdown",
      "source": [
        "<h3>Now split data into train and test so that we can built model on train datasets</h3>"
      ],
      "metadata": {
        "id": "F3QF3bPNq_ke"
      }
    },
    {
      "cell_type": "code",
      "source": [
        "clean_train_df=df[df['dataset_type']=='train']\n",
        "clean_test_df=df[df['dataset_type']=='test']\n"
      ],
      "metadata": {
        "execution": {
          "iopub.status.busy": "2024-10-16T12:32:13.458539Z",
          "iopub.execute_input": "2024-10-16T12:32:13.459091Z",
          "iopub.status.idle": "2024-10-16T12:32:13.474124Z",
          "shell.execute_reply.started": "2024-10-16T12:32:13.459041Z",
          "shell.execute_reply": "2024-10-16T12:32:13.47145Z"
        },
        "trusted": true,
        "id": "FfU5ffMMq_ke"
      },
      "execution_count": null,
      "outputs": []
    },
    {
      "cell_type": "code",
      "source": [
        "print('Clean Train Dataset Shape',clean_train_df.shape)\n",
        "print('------------------------------------')\n",
        "print('Clean Test Dataset Shape',clean_test_df.shape)"
      ],
      "metadata": {
        "execution": {
          "iopub.status.busy": "2024-10-16T12:32:13.477727Z",
          "iopub.execute_input": "2024-10-16T12:32:13.478292Z",
          "iopub.status.idle": "2024-10-16T12:32:13.487293Z",
          "shell.execute_reply.started": "2024-10-16T12:32:13.478236Z",
          "shell.execute_reply": "2024-10-16T12:32:13.485383Z"
        },
        "trusted": true,
        "id": "4ly3pdUbq_ke"
      },
      "execution_count": null,
      "outputs": []
    },
    {
      "cell_type": "code",
      "source": [
        "from sklearn.linear_model import LogisticRegression\n",
        "from sklearn.neighbors import KNeighborsClassifier\n",
        "from sklearn.svm import SVC\n",
        "from sklearn.naive_bayes import GaussianNB\n",
        "from sklearn.tree import DecisionTreeClassifier\n",
        "from sklearn.ensemble import RandomForestClassifier\n",
        "from xgboost import XGBClassifier\n",
        "from sklearn.ensemble import GradientBoostingClassifier\n",
        "from sklearn.metrics import accuracy_score, classification_report\n"
      ],
      "metadata": {
        "execution": {
          "iopub.status.busy": "2024-10-16T12:32:13.489618Z",
          "iopub.execute_input": "2024-10-16T12:32:13.490416Z",
          "iopub.status.idle": "2024-10-16T12:32:13.506741Z",
          "shell.execute_reply.started": "2024-10-16T12:32:13.490225Z",
          "shell.execute_reply": "2024-10-16T12:32:13.505201Z"
        },
        "trusted": true,
        "id": "_qiUbvQQq_kf"
      },
      "execution_count": null,
      "outputs": []
    },
    {
      "cell_type": "code",
      "source": [
        "\n",
        "x=clean_train_df[['Pclass','Sex','Embarked','Fare_bin','Age_bin','Title','FamilySizeCategory']]\n",
        "y=clean_train_df['Survived']\n",
        "\n",
        "from sklearn.model_selection import train_test_split,GridSearchCV\n",
        "x_train, x_test, y_train, y_test = train_test_split(x, y, test_size=0.33, random_state=42)"
      ],
      "metadata": {
        "execution": {
          "iopub.status.busy": "2024-10-16T12:32:13.509965Z",
          "iopub.execute_input": "2024-10-16T12:32:13.510897Z",
          "iopub.status.idle": "2024-10-16T12:32:13.532706Z",
          "shell.execute_reply.started": "2024-10-16T12:32:13.510796Z",
          "shell.execute_reply": "2024-10-16T12:32:13.530335Z"
        },
        "trusted": true,
        "id": "W117NFmfq_kf"
      },
      "execution_count": null,
      "outputs": []
    },
    {
      "cell_type": "code",
      "source": [
        "def train_model(model, model_name):\n",
        "    print(f'Model: {model_name}')\n",
        "\n",
        "    # Fit the model on the training data\n",
        "    model.fit(x_train, y_train)\n",
        "\n",
        "    # Predictions on the training data\n",
        "    y_train_pred = model.predict(x_train)\n",
        "    # Predictions on the testing data\n",
        "    y_test_pred = model.predict(x_test)\n",
        "\n",
        "    # Calculate accuracy scores\n",
        "    train_accuracy = accuracy_score(y_train, y_train_pred)\n",
        "    test_accuracy = accuracy_score(y_test, y_test_pred)\n",
        "\n",
        "    print(f'Training Accuracy Score: {train_accuracy:.2f}')\n",
        "    print(f'Testing Accuracy Score: {test_accuracy:.2f}')\n",
        "\n",
        "    # Generate classification report for testing data\n",
        "    report = classification_report(y_test, y_test_pred)\n",
        "    print('Classification Report:')\n",
        "    print(report)\n",
        "\n",
        "    return model\n"
      ],
      "metadata": {
        "execution": {
          "iopub.status.busy": "2024-10-16T12:32:13.534867Z",
          "iopub.execute_input": "2024-10-16T12:32:13.535531Z",
          "iopub.status.idle": "2024-10-16T12:32:13.547426Z",
          "shell.execute_reply.started": "2024-10-16T12:32:13.535467Z",
          "shell.execute_reply": "2024-10-16T12:32:13.545446Z"
        },
        "trusted": true,
        "id": "jrvc3dKbq_kg"
      },
      "execution_count": null,
      "outputs": []
    },
    {
      "cell_type": "code",
      "source": [
        "model_list = dict(\n",
        "    knn=KNeighborsClassifier(n_neighbors=3, metric='minkowski', p=2),\n",
        "    svc=SVC(kernel='linear', random_state=0),\n",
        "    logistic=LogisticRegression(),\n",
        "    naive=GaussianNB(),\n",
        "    tree=DecisionTreeClassifier(criterion='entropy', random_state=0),\n",
        "    forest=RandomForestClassifier(n_estimators=50, criterion=\"entropy\"),\n",
        "    xgboost=XGBClassifier(),\n",
        "    gradientboost=GradientBoostingClassifier(n_estimators=100, learning_rate=1.0, max_depth=1, random_state=1)\n",
        ")\n",
        "for key, value in model_list.items():\n",
        "    print('*'*30)\n",
        "    train_model(value,key)"
      ],
      "metadata": {
        "execution": {
          "iopub.status.busy": "2024-10-16T12:32:13.549577Z",
          "iopub.execute_input": "2024-10-16T12:32:13.550113Z",
          "iopub.status.idle": "2024-10-16T12:32:14.135558Z",
          "shell.execute_reply.started": "2024-10-16T12:32:13.550064Z",
          "shell.execute_reply": "2024-10-16T12:32:14.134206Z"
        },
        "trusted": true,
        "id": "Nw1LWHiUq_kh"
      },
      "execution_count": null,
      "outputs": []
    },
    {
      "cell_type": "markdown",
      "source": [
        "<h3>Applying Hyperparameter Tuning with GridSearchCV for Model Optimization</h3>"
      ],
      "metadata": {
        "id": "IcfDZOz_q_kh"
      }
    },
    {
      "cell_type": "code",
      "source": [
        "# Define the model\n",
        "model = XGBClassifier(random_state=42)\n",
        "\n",
        "# Set up the parameter grid\n",
        "param_grid = {\n",
        "    'max_depth': [3, 5, 7, 9, 11],\n",
        "    'learning_rate': [0.01, 0.05, 0.1, 0.2],\n",
        "    'n_estimators': [50, 100, 150, 200],\n",
        "    'subsample': [0.8, 1.0],\n",
        "    'colsample_bytree': [0.8, 1.0]\n",
        "}\n",
        "\n",
        "# Set up the grid search\n",
        "grid_search = GridSearchCV(estimator=model, param_grid=param_grid,\n",
        "                           scoring='accuracy', cv=5, verbose=0, n_jobs=-1)\n",
        "\n",
        "# Fit the model\n",
        "grid_search.fit(x_train, y_train)\n",
        "\n",
        "# Get the best parameters and best score\n",
        "best_params = grid_search.best_params_\n",
        "best_score = grid_search.best_score_\n",
        "\n",
        "# Print the results\n",
        "print(\"Best Parameters:\", best_params)\n",
        "print(\"Best Cross-Validation Score:\", best_score)\n",
        "\n",
        "# Optionally, evaluate on the test set\n",
        "best_model = grid_search.best_estimator_\n",
        "y_pred = best_model.predict(x_test)\n",
        "test_accuracy = accuracy_score(y_test, y_pred)\n",
        "print(\"Test Set Accuracy:\", test_accuracy)"
      ],
      "metadata": {
        "execution": {
          "iopub.status.busy": "2024-10-16T12:32:14.137139Z",
          "iopub.execute_input": "2024-10-16T12:32:14.137581Z",
          "iopub.status.idle": "2024-10-16T12:33:01.88675Z",
          "shell.execute_reply.started": "2024-10-16T12:32:14.137536Z",
          "shell.execute_reply": "2024-10-16T12:33:01.885053Z"
        },
        "trusted": true,
        "id": "974UmY0cq_kh"
      },
      "execution_count": null,
      "outputs": []
    },
    {
      "cell_type": "code",
      "source": [
        "model=XGBClassifier(\n",
        "    colsample_bytree=1.0,\n",
        "    learning_rate=0.01,\n",
        "    max_depth=7,\n",
        "    n_estimators=100,\n",
        "    subsample=1.0,\n",
        "    use_label_encoder=False,  # Optional, based on your XGBoost version\n",
        "    eval_metric='mlogloss'    # Optional, based on your needs\n",
        ")\n",
        "\n",
        "train_model(model,'XGBOOST')"
      ],
      "metadata": {
        "execution": {
          "iopub.status.busy": "2024-10-16T12:33:01.891315Z",
          "iopub.execute_input": "2024-10-16T12:33:01.894713Z",
          "iopub.status.idle": "2024-10-16T12:33:02.00079Z",
          "shell.execute_reply.started": "2024-10-16T12:33:01.894638Z",
          "shell.execute_reply": "2024-10-16T12:33:01.999382Z"
        },
        "trusted": true,
        "id": "QUF9EqaSq_ki"
      },
      "execution_count": null,
      "outputs": []
    },
    {
      "cell_type": "markdown",
      "source": [
        "<h3>We will use the XGBoost model to predict the output, achieving an accuracy of 83%</h3>"
      ],
      "metadata": {
        "id": "GrRJzBQTq_kk"
      }
    },
    {
      "cell_type": "code",
      "source": [
        "clean_test_df.head()"
      ],
      "metadata": {
        "execution": {
          "iopub.status.busy": "2024-10-16T12:33:02.002665Z",
          "iopub.execute_input": "2024-10-16T12:33:02.00325Z",
          "iopub.status.idle": "2024-10-16T12:33:02.024105Z",
          "shell.execute_reply.started": "2024-10-16T12:33:02.003181Z",
          "shell.execute_reply": "2024-10-16T12:33:02.022637Z"
        },
        "trusted": true,
        "id": "k57HC3PJq_kl"
      },
      "execution_count": null,
      "outputs": []
    },
    {
      "cell_type": "code",
      "source": [
        "clean_test_df.shape"
      ],
      "metadata": {
        "execution": {
          "iopub.status.busy": "2024-10-16T12:33:02.02666Z",
          "iopub.execute_input": "2024-10-16T12:33:02.028641Z",
          "iopub.status.idle": "2024-10-16T12:33:02.039554Z",
          "shell.execute_reply.started": "2024-10-16T12:33:02.028569Z",
          "shell.execute_reply": "2024-10-16T12:33:02.037842Z"
        },
        "trusted": true,
        "id": "rHSPZzFXq_kl"
      },
      "execution_count": null,
      "outputs": []
    },
    {
      "cell_type": "code",
      "source": [
        "X_test=clean_test_df[['Pclass','Sex','Embarked','Fare_bin','Age_bin','Title','FamilySizeCategory']]\n"
      ],
      "metadata": {
        "execution": {
          "iopub.status.busy": "2024-10-16T12:33:02.041676Z",
          "iopub.execute_input": "2024-10-16T12:33:02.042244Z",
          "iopub.status.idle": "2024-10-16T12:33:02.054557Z",
          "shell.execute_reply.started": "2024-10-16T12:33:02.042182Z",
          "shell.execute_reply": "2024-10-16T12:33:02.052877Z"
        },
        "trusted": true,
        "id": "K7eZ5XYgq_km"
      },
      "execution_count": null,
      "outputs": []
    },
    {
      "cell_type": "code",
      "source": [
        "submission_df = pd.DataFrame({\n",
        "    'PassengerId': clean_test_df['PassengerId'],\n",
        "    'Survived': model.predict(X_test)\n",
        "})"
      ],
      "metadata": {
        "execution": {
          "iopub.status.busy": "2024-10-16T12:33:02.056991Z",
          "iopub.execute_input": "2024-10-16T12:33:02.057498Z",
          "iopub.status.idle": "2024-10-16T12:33:02.079003Z",
          "shell.execute_reply.started": "2024-10-16T12:33:02.05745Z",
          "shell.execute_reply": "2024-10-16T12:33:02.077809Z"
        },
        "trusted": true,
        "id": "z_ZCU8GUq_ks"
      },
      "execution_count": null,
      "outputs": []
    },
    {
      "cell_type": "code",
      "source": [
        "submission_df.to_csv('submission.csv', index=False)\n"
      ],
      "metadata": {
        "execution": {
          "iopub.status.busy": "2024-10-16T12:33:02.080743Z",
          "iopub.execute_input": "2024-10-16T12:33:02.081599Z",
          "iopub.status.idle": "2024-10-16T12:33:02.099445Z",
          "shell.execute_reply.started": "2024-10-16T12:33:02.081544Z",
          "shell.execute_reply": "2024-10-16T12:33:02.097152Z"
        },
        "trusted": true,
        "id": "4iHOtueGq_kt"
      },
      "execution_count": null,
      "outputs": []
    },
    {
      "cell_type": "code",
      "source": [],
      "metadata": {
        "id": "INw3Mo-Aq_kt"
      },
      "execution_count": null,
      "outputs": []
    }
  ]
}